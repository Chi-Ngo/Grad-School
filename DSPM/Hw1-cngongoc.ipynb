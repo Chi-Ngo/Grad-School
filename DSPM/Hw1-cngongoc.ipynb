{
 "cells": [
  {
   "cell_type": "markdown",
   "metadata": {},
   "source": [
    "<h2>Homework 1</h2>\n",
    "<h3>Chi Ngo - cngongoc</h3>"
   ]
  },
  {
   "cell_type": "code",
   "execution_count": 1,
   "metadata": {},
   "outputs": [],
   "source": [
    "import pandas as pd\n",
    "import numpy as np\n",
    "from matplotlib import pyplot as plt \n",
    "import time \n",
    "import datetime "
   ]
  },
  {
   "cell_type": "code",
   "execution_count": 2,
   "metadata": {},
   "outputs": [],
   "source": [
    "df = pd.read_csv('HW1 clv_transactions.csv')"
   ]
  },
  {
   "cell_type": "code",
   "execution_count": 3,
   "metadata": {},
   "outputs": [
    {
     "data": {
      "text/html": [
       "<div>\n",
       "<style scoped>\n",
       "    .dataframe tbody tr th:only-of-type {\n",
       "        vertical-align: middle;\n",
       "    }\n",
       "\n",
       "    .dataframe tbody tr th {\n",
       "        vertical-align: top;\n",
       "    }\n",
       "\n",
       "    .dataframe thead th {\n",
       "        text-align: right;\n",
       "    }\n",
       "</style>\n",
       "<table border=\"1\" class=\"dataframe\">\n",
       "  <thead>\n",
       "    <tr style=\"text-align: right;\">\n",
       "      <th></th>\n",
       "      <th>TransactionID</th>\n",
       "      <th>TransactionDate</th>\n",
       "      <th>CustomerID</th>\n",
       "      <th>Amount</th>\n",
       "    </tr>\n",
       "  </thead>\n",
       "  <tbody>\n",
       "    <tr>\n",
       "      <th>0</th>\n",
       "      <td>1</td>\n",
       "      <td>9/4/2012</td>\n",
       "      <td>1</td>\n",
       "      <td>20.26</td>\n",
       "    </tr>\n",
       "    <tr>\n",
       "      <th>1</th>\n",
       "      <td>2</td>\n",
       "      <td>5/15/2012</td>\n",
       "      <td>2</td>\n",
       "      <td>10.87</td>\n",
       "    </tr>\n",
       "    <tr>\n",
       "      <th>2</th>\n",
       "      <td>3</td>\n",
       "      <td>5/23/2014</td>\n",
       "      <td>2</td>\n",
       "      <td>2.21</td>\n",
       "    </tr>\n",
       "    <tr>\n",
       "      <th>3</th>\n",
       "      <td>4</td>\n",
       "      <td>10/24/2014</td>\n",
       "      <td>2</td>\n",
       "      <td>10.48</td>\n",
       "    </tr>\n",
       "    <tr>\n",
       "      <th>4</th>\n",
       "      <td>5</td>\n",
       "      <td>10/13/2012</td>\n",
       "      <td>2</td>\n",
       "      <td>3.94</td>\n",
       "    </tr>\n",
       "  </tbody>\n",
       "</table>\n",
       "</div>"
      ],
      "text/plain": [
       "   TransactionID TransactionDate  CustomerID  Amount\n",
       "0              1        9/4/2012           1   20.26\n",
       "1              2       5/15/2012           2   10.87\n",
       "2              3       5/23/2014           2    2.21\n",
       "3              4      10/24/2014           2   10.48\n",
       "4              5      10/13/2012           2    3.94"
      ]
     },
     "execution_count": 3,
     "metadata": {},
     "output_type": "execute_result"
    }
   ],
   "source": [
    "df.head()"
   ]
  },
  {
   "cell_type": "markdown",
   "metadata": {},
   "source": [
    "<h4>Step 1: Understand the dataset</h4>"
   ]
  },
  {
   "cell_type": "code",
   "execution_count": 4,
   "metadata": {},
   "outputs": [
    {
     "data": {
      "text/plain": [
       "TransactionID      0\n",
       "TransactionDate    0\n",
       "CustomerID         0\n",
       "Amount             0\n",
       "dtype: int64"
      ]
     },
     "execution_count": 4,
     "metadata": {},
     "output_type": "execute_result"
    }
   ],
   "source": [
    "df.isnull().sum()"
   ]
  },
  {
   "cell_type": "markdown",
   "metadata": {},
   "source": [
    "<p>1. Since there is no null value, there is no missing value in the dataset</p>"
   ]
  },
  {
   "cell_type": "code",
   "execution_count": 5,
   "metadata": {},
   "outputs": [],
   "source": [
    "df['TransactionDate'] = pd.to_datetime(df['TransactionDate'])"
   ]
  },
  {
   "cell_type": "code",
   "execution_count": 6,
   "metadata": {},
   "outputs": [
    {
     "name": "stdout",
     "output_type": "stream",
     "text": [
      "Latest transaction date: 2015-12-31 00:00:00\n",
      "Earliest transaction date: 2010-01-04 00:00:00\n"
     ]
    }
   ],
   "source": [
    "print('Latest transaction date:',max(df['TransactionDate']))\n",
    "print('Earliest transaction date:',min(df['TransactionDate']))"
   ]
  },
  {
   "cell_type": "code",
   "execution_count": 7,
   "metadata": {},
   "outputs": [
    {
     "data": {
      "text/plain": [
       "2187"
      ]
     },
     "execution_count": 7,
     "metadata": {},
     "output_type": "execute_result"
    }
   ],
   "source": [
    "(max(df['TransactionDate']) - min(df['TransactionDate'])).days"
   ]
  },
  {
   "cell_type": "markdown",
   "metadata": {},
   "source": [
    "<p>2. Based on the analysis above, transaction dates range from 01/04/2010 to 12/31/2015, spanning a total of 2187 days</p>"
   ]
  },
  {
   "cell_type": "code",
   "execution_count": 8,
   "metadata": {},
   "outputs": [
    {
     "data": {
      "text/plain": [
       "1000"
      ]
     },
     "execution_count": 8,
     "metadata": {},
     "output_type": "execute_result"
    }
   ],
   "source": [
    "df['CustomerID'].unique().size"
   ]
  },
  {
   "cell_type": "markdown",
   "metadata": {},
   "source": [
    "<p>3. There are 1000 unique customers in the dataset</p>"
   ]
  },
  {
   "cell_type": "code",
   "execution_count": 9,
   "metadata": {},
   "outputs": [
    {
     "data": {
      "text/plain": [
       "count    4186.000000\n",
       "mean        9.028082\n",
       "std        38.723909\n",
       "min        -1.000000\n",
       "25%         3.310000\n",
       "50%         6.885000\n",
       "75%        11.690000\n",
       "max      2033.000000\n",
       "Name: Amount, dtype: float64"
      ]
     },
     "execution_count": 9,
     "metadata": {},
     "output_type": "execute_result"
    }
   ],
   "source": [
    "df['Amount'].describe()"
   ]
  },
  {
   "cell_type": "code",
   "execution_count": 10,
   "metadata": {},
   "outputs": [
    {
     "name": "stdout",
     "output_type": "stream",
     "text": [
      "The variance is 1499.5411107517461\n"
     ]
    }
   ],
   "source": [
    "print('The variance is',df['Amount'].var())"
   ]
  },
  {
   "cell_type": "markdown",
   "metadata": {},
   "source": [
    "<p>4. For the Amount field, min is -1, max is 2033. variance is 1499.54, and standard deviation is 38.72 \n",
    "Since this field is about how much a customer has spent, having a -1 dollar amount is questionable, and is potential an entry error. Furthermore, the max value is significanly higher than the mean, and we have a high variance. Therefore, there may be some very large outliers. </p>"
   ]
  },
  {
   "cell_type": "code",
   "execution_count": 11,
   "metadata": {},
   "outputs": [
    {
     "data": {
      "image/png": "[encoded data removed]",
      "text/plain": [
       "<Figure size 576x576 with 1 Axes>"
      ]
     },
     "metadata": {
      "needs_background": "light"
     },
     "output_type": "display_data"
    }
   ],
   "source": [
    "plt.figure(figsize=(8,8))\n",
    "plt.scatter(df['TransactionDate'],df['Amount'])\n",
    "plt.title('Scatter plot of Transaction Date versus Amount')\n",
    "plt.xlabel('Amount')\n",
    "plt.ylabel('Transaction Date')\n",
    "plt.show()"
   ]
  },
  {
   "cell_type": "markdown",
   "metadata": {},
   "source": [
    "<p>5. Based on the scatter plot, transaction amount doesn't seem to increase over time, although the existence of the 3 outliers may have impacted the trend</p>"
   ]
  },
  {
   "cell_type": "markdown",
   "metadata": {},
   "source": [
    "<h4>Step 2: Explore the dataset</h4>"
   ]
  },
  {
   "cell_type": "code",
   "execution_count": 12,
   "metadata": {},
   "outputs": [
    {
     "data": {
      "image/png": "[encoded data removed]",
      "text/plain": [
       "<Figure size 576x576 with 1 Axes>"
      ]
     },
     "metadata": {
      "needs_background": "light"
     },
     "output_type": "display_data"
    }
   ],
   "source": [
    "plt.figure(figsize=(8,8))\n",
    "plt.hist(df['Amount'], bins = 100)\n",
    "plt.title('Histogram of the transaction amount') \n",
    "plt.xlabel('Amount')\n",
    "plt.ylabel('Frequency')\n",
    "plt.show()"
   ]
  },
  {
   "cell_type": "markdown",
   "metadata": {},
   "source": [
    "<p>1. Based on the histogram, most of the data points fall below 100. However, it seems that there are some data points below 0, and a few very large ones (over 1000)</p>"
   ]
  },
  {
   "cell_type": "code",
   "execution_count": 13,
   "metadata": {},
   "outputs": [
    {
     "name": "stdout",
     "output_type": "stream",
     "text": [
      "Number of points above $1000: 3\n"
     ]
    }
   ],
   "source": [
    "print('Number of points above $1000:',len(df[df['Amount'] > 1000].index))"
   ]
  },
  {
   "cell_type": "markdown",
   "metadata": {},
   "source": [
    "<p>2. These points are most likely data entry errors with a missing decimal points. Since it is impossible to know where the decimal point should be, and there are only 3 of these outliers, I will drop them from the dataset</p>"
   ]
  },
  {
   "cell_type": "code",
   "execution_count": 14,
   "metadata": {},
   "outputs": [],
   "source": [
    "df.drop(df[df['Amount'] >= 1000].index, inplace=True)"
   ]
  },
  {
   "cell_type": "code",
   "execution_count": 15,
   "metadata": {},
   "outputs": [
    {
     "name": "stdout",
     "output_type": "stream",
     "text": [
      "Number of points below 0: 2\n"
     ]
    }
   ],
   "source": [
    "print('Number of points below 0:',len(df[df['Amount'] <= 0].index))"
   ]
  },
  {
   "cell_type": "markdown",
   "metadata": {},
   "source": [
    "<p>2. Since there only 2 data points that are negative out of over 4000 entries, I will drop them from the dataset </p>"
   ]
  },
  {
   "cell_type": "code",
   "execution_count": 16,
   "metadata": {},
   "outputs": [],
   "source": [
    "df.drop(df[df['Amount'] <= 0].index, inplace=True)"
   ]
  },
  {
   "cell_type": "code",
   "execution_count": 17,
   "metadata": {},
   "outputs": [
    {
     "data": {
      "text/plain": [
       "count    4181.000000\n",
       "mean        8.067580\n",
       "std         6.006612\n",
       "min         0.010000\n",
       "25%         3.310000\n",
       "50%         6.880000\n",
       "75%        11.690000\n",
       "max        38.350000\n",
       "Name: Amount, dtype: float64"
      ]
     },
     "execution_count": 17,
     "metadata": {},
     "output_type": "execute_result"
    }
   ],
   "source": [
    "df['Amount'].describe()"
   ]
  },
  {
   "cell_type": "markdown",
   "metadata": {},
   "source": [
    "<p>After treating the outliers, we can see that standard deviation is much lower</p>"
   ]
  },
  {
   "cell_type": "code",
   "execution_count": 18,
   "metadata": {},
   "outputs": [
    {
     "data": {
      "image/png": "[encoded data removed]",
      "text/plain": [
       "<Figure size 576x576 with 1 Axes>"
      ]
     },
     "metadata": {
      "needs_background": "light"
     },
     "output_type": "display_data"
    }
   ],
   "source": [
    "plt.figure(figsize=(8,8))\n",
    "plt.hist(df['Amount'], bins = 100)\n",
    "plt.title('Histogram of the transaction amount') \n",
    "plt.xlabel('Amount')\n",
    "plt.ylabel('Frequency')\n",
    "plt.show()"
   ]
  },
  {
   "cell_type": "markdown",
   "metadata": {},
   "source": [
    "<p>Reploting the transaction amount, we can see the distribution of the amount skews left</p>"
   ]
  },
  {
   "cell_type": "code",
   "execution_count": 19,
   "metadata": {},
   "outputs": [
    {
     "data": {
      "image/png": "[encoded data removed]",
      "text/plain": [
       "<Figure size 576x576 with 1 Axes>"
      ]
     },
     "metadata": {
      "needs_background": "light"
     },
     "output_type": "display_data"
    }
   ],
   "source": [
    "df.plot(kind='scatter', \n",
    "        x='TransactionDate', \n",
    "        y='Amount',\n",
    "        figsize = (8,8),\n",
    "        title='Scatter plot of Transaction Date versus Amount')\n",
    "plt.show()"
   ]
  },
  {
   "cell_type": "markdown",
   "metadata": {},
   "source": [
    "<p>Reploting the scatter plot of amount vs transaction date, there is still no relationship between the two variables</p>"
   ]
  },
  {
   "cell_type": "markdown",
   "metadata": {},
   "source": [
    "<h4>Step 3: Determine origin year of customers</h4>"
   ]
  },
  {
   "cell_type": "code",
   "execution_count": 20,
   "metadata": {},
   "outputs": [],
   "source": [
    "df2 = df[['CustomerID','TransactionDate']].groupby(['CustomerID']).min()"
   ]
  },
  {
   "cell_type": "code",
   "execution_count": 21,
   "metadata": {},
   "outputs": [
    {
     "data": {
      "text/html": [
       "<div>\n",
       "<style scoped>\n",
       "    .dataframe tbody tr th:only-of-type {\n",
       "        vertical-align: middle;\n",
       "    }\n",
       "\n",
       "    .dataframe tbody tr th {\n",
       "        vertical-align: top;\n",
       "    }\n",
       "\n",
       "    .dataframe thead th {\n",
       "        text-align: right;\n",
       "    }\n",
       "</style>\n",
       "<table border=\"1\" class=\"dataframe\">\n",
       "  <thead>\n",
       "    <tr style=\"text-align: right;\">\n",
       "      <th></th>\n",
       "      <th>TransactionDate</th>\n",
       "    </tr>\n",
       "    <tr>\n",
       "      <th>CustomerID</th>\n",
       "      <th></th>\n",
       "    </tr>\n",
       "  </thead>\n",
       "  <tbody>\n",
       "    <tr>\n",
       "      <th>1</th>\n",
       "      <td>2012-09-04</td>\n",
       "    </tr>\n",
       "    <tr>\n",
       "      <th>2</th>\n",
       "      <td>2012-05-15</td>\n",
       "    </tr>\n",
       "    <tr>\n",
       "      <th>3</th>\n",
       "      <td>2012-11-26</td>\n",
       "    </tr>\n",
       "    <tr>\n",
       "      <th>4</th>\n",
       "      <td>2015-07-07</td>\n",
       "    </tr>\n",
       "    <tr>\n",
       "      <th>5</th>\n",
       "      <td>2015-01-24</td>\n",
       "    </tr>\n",
       "  </tbody>\n",
       "</table>\n",
       "</div>"
      ],
      "text/plain": [
       "           TransactionDate\n",
       "CustomerID                \n",
       "1               2012-09-04\n",
       "2               2012-05-15\n",
       "3               2012-11-26\n",
       "4               2015-07-07\n",
       "5               2015-01-24"
      ]
     },
     "execution_count": 21,
     "metadata": {},
     "output_type": "execute_result"
    }
   ],
   "source": [
    "df2.head()"
   ]
  },
  {
   "cell_type": "code",
   "execution_count": 22,
   "metadata": {},
   "outputs": [],
   "source": [
    "df2['Group'] = pd.DatetimeIndex(df2['TransactionDate']).year.astype(str)\n",
    "df2 = df2.drop(columns=['TransactionDate'])"
   ]
  },
  {
   "cell_type": "code",
   "execution_count": 23,
   "metadata": {},
   "outputs": [],
   "source": [
    "df = pd.merge(df, df2, how='inner',on='CustomerID')"
   ]
  },
  {
   "cell_type": "code",
   "execution_count": 24,
   "metadata": {},
   "outputs": [
    {
     "data": {
      "text/html": [
       "<div>\n",
       "<style scoped>\n",
       "    .dataframe tbody tr th:only-of-type {\n",
       "        vertical-align: middle;\n",
       "    }\n",
       "\n",
       "    .dataframe tbody tr th {\n",
       "        vertical-align: top;\n",
       "    }\n",
       "\n",
       "    .dataframe thead th {\n",
       "        text-align: right;\n",
       "    }\n",
       "</style>\n",
       "<table border=\"1\" class=\"dataframe\">\n",
       "  <thead>\n",
       "    <tr style=\"text-align: right;\">\n",
       "      <th></th>\n",
       "      <th>TransactionID</th>\n",
       "      <th>TransactionDate</th>\n",
       "      <th>CustomerID</th>\n",
       "      <th>Amount</th>\n",
       "      <th>Group</th>\n",
       "    </tr>\n",
       "  </thead>\n",
       "  <tbody>\n",
       "    <tr>\n",
       "      <th>0</th>\n",
       "      <td>1</td>\n",
       "      <td>2012-09-04</td>\n",
       "      <td>1</td>\n",
       "      <td>20.26</td>\n",
       "      <td>2012</td>\n",
       "    </tr>\n",
       "    <tr>\n",
       "      <th>1</th>\n",
       "      <td>2</td>\n",
       "      <td>2012-05-15</td>\n",
       "      <td>2</td>\n",
       "      <td>10.87</td>\n",
       "      <td>2012</td>\n",
       "    </tr>\n",
       "    <tr>\n",
       "      <th>2</th>\n",
       "      <td>3</td>\n",
       "      <td>2014-05-23</td>\n",
       "      <td>2</td>\n",
       "      <td>2.21</td>\n",
       "      <td>2012</td>\n",
       "    </tr>\n",
       "    <tr>\n",
       "      <th>3</th>\n",
       "      <td>4</td>\n",
       "      <td>2014-10-24</td>\n",
       "      <td>2</td>\n",
       "      <td>10.48</td>\n",
       "      <td>2012</td>\n",
       "    </tr>\n",
       "    <tr>\n",
       "      <th>4</th>\n",
       "      <td>5</td>\n",
       "      <td>2012-10-13</td>\n",
       "      <td>2</td>\n",
       "      <td>3.94</td>\n",
       "      <td>2012</td>\n",
       "    </tr>\n",
       "    <tr>\n",
       "      <th>...</th>\n",
       "      <td>...</td>\n",
       "      <td>...</td>\n",
       "      <td>...</td>\n",
       "      <td>...</td>\n",
       "      <td>...</td>\n",
       "    </tr>\n",
       "    <tr>\n",
       "      <th>4176</th>\n",
       "      <td>4182</td>\n",
       "      <td>2013-06-23</td>\n",
       "      <td>1000</td>\n",
       "      <td>3.86</td>\n",
       "      <td>2010</td>\n",
       "    </tr>\n",
       "    <tr>\n",
       "      <th>4177</th>\n",
       "      <td>4183</td>\n",
       "      <td>2011-08-07</td>\n",
       "      <td>1000</td>\n",
       "      <td>4.00</td>\n",
       "      <td>2010</td>\n",
       "    </tr>\n",
       "    <tr>\n",
       "      <th>4178</th>\n",
       "      <td>4184</td>\n",
       "      <td>2012-10-07</td>\n",
       "      <td>1000</td>\n",
       "      <td>18.37</td>\n",
       "      <td>2010</td>\n",
       "    </tr>\n",
       "    <tr>\n",
       "      <th>4179</th>\n",
       "      <td>4185</td>\n",
       "      <td>2014-01-09</td>\n",
       "      <td>1000</td>\n",
       "      <td>3.45</td>\n",
       "      <td>2010</td>\n",
       "    </tr>\n",
       "    <tr>\n",
       "      <th>4180</th>\n",
       "      <td>4186</td>\n",
       "      <td>2011-04-30</td>\n",
       "      <td>1000</td>\n",
       "      <td>5.18</td>\n",
       "      <td>2010</td>\n",
       "    </tr>\n",
       "  </tbody>\n",
       "</table>\n",
       "<p>4181 rows × 5 columns</p>\n",
       "</div>"
      ],
      "text/plain": [
       "      TransactionID TransactionDate  CustomerID  Amount Group\n",
       "0                 1      2012-09-04           1   20.26  2012\n",
       "1                 2      2012-05-15           2   10.87  2012\n",
       "2                 3      2014-05-23           2    2.21  2012\n",
       "3                 4      2014-10-24           2   10.48  2012\n",
       "4                 5      2012-10-13           2    3.94  2012\n",
       "...             ...             ...         ...     ...   ...\n",
       "4176           4182      2013-06-23        1000    3.86  2010\n",
       "4177           4183      2011-08-07        1000    4.00  2010\n",
       "4178           4184      2012-10-07        1000   18.37  2010\n",
       "4179           4185      2014-01-09        1000    3.45  2010\n",
       "4180           4186      2011-04-30        1000    5.18  2010\n",
       "\n",
       "[4181 rows x 5 columns]"
      ]
     },
     "execution_count": 24,
     "metadata": {},
     "output_type": "execute_result"
    }
   ],
   "source": [
    "df"
   ]
  },
  {
   "cell_type": "markdown",
   "metadata": {},
   "source": [
    "<h4>Step 4: Calculate cumulative transaction amounts</h4>"
   ]
  },
  {
   "cell_type": "code",
   "execution_count": 25,
   "metadata": {},
   "outputs": [],
   "source": [
    "Amount = pd.DataFrame({'Origin':['2010-01-01 - 2010-12-31', '2011-01-01 - 2011-12-31', '2012-01-01 - 2012-12-31', \n",
    "                                '2013-01-01 - 2013-12-31', '2014-01-01 - 2014-12-31', '2015-01-01 - 2015-12-31']})\n",
    "Amount['12']=''\n",
    "Amount['24']=''\n",
    "Amount['36']=''\n",
    "Amount['48']=''\n",
    "Amount['60']=''\n",
    "Amount['72']=''"
   ]
  },
  {
   "cell_type": "code",
   "execution_count": 26,
   "metadata": {},
   "outputs": [
    {
     "data": {
      "text/html": [
       "<div>\n",
       "<style scoped>\n",
       "    .dataframe tbody tr th:only-of-type {\n",
       "        vertical-align: middle;\n",
       "    }\n",
       "\n",
       "    .dataframe tbody tr th {\n",
       "        vertical-align: top;\n",
       "    }\n",
       "\n",
       "    .dataframe thead th {\n",
       "        text-align: right;\n",
       "    }\n",
       "</style>\n",
       "<table border=\"1\" class=\"dataframe\">\n",
       "  <thead>\n",
       "    <tr style=\"text-align: right;\">\n",
       "      <th></th>\n",
       "      <th>Origin</th>\n",
       "      <th>12</th>\n",
       "      <th>24</th>\n",
       "      <th>36</th>\n",
       "      <th>48</th>\n",
       "      <th>60</th>\n",
       "      <th>72</th>\n",
       "    </tr>\n",
       "  </thead>\n",
       "  <tbody>\n",
       "    <tr>\n",
       "      <th>0</th>\n",
       "      <td>2010-01-01 - 2010-12-31</td>\n",
       "      <td></td>\n",
       "      <td></td>\n",
       "      <td></td>\n",
       "      <td></td>\n",
       "      <td></td>\n",
       "      <td></td>\n",
       "    </tr>\n",
       "    <tr>\n",
       "      <th>1</th>\n",
       "      <td>2011-01-01 - 2011-12-31</td>\n",
       "      <td></td>\n",
       "      <td></td>\n",
       "      <td></td>\n",
       "      <td></td>\n",
       "      <td></td>\n",
       "      <td></td>\n",
       "    </tr>\n",
       "    <tr>\n",
       "      <th>2</th>\n",
       "      <td>2012-01-01 - 2012-12-31</td>\n",
       "      <td></td>\n",
       "      <td></td>\n",
       "      <td></td>\n",
       "      <td></td>\n",
       "      <td></td>\n",
       "      <td></td>\n",
       "    </tr>\n",
       "    <tr>\n",
       "      <th>3</th>\n",
       "      <td>2013-01-01 - 2013-12-31</td>\n",
       "      <td></td>\n",
       "      <td></td>\n",
       "      <td></td>\n",
       "      <td></td>\n",
       "      <td></td>\n",
       "      <td></td>\n",
       "    </tr>\n",
       "    <tr>\n",
       "      <th>4</th>\n",
       "      <td>2014-01-01 - 2014-12-31</td>\n",
       "      <td></td>\n",
       "      <td></td>\n",
       "      <td></td>\n",
       "      <td></td>\n",
       "      <td></td>\n",
       "      <td></td>\n",
       "    </tr>\n",
       "    <tr>\n",
       "      <th>5</th>\n",
       "      <td>2015-01-01 - 2015-12-31</td>\n",
       "      <td></td>\n",
       "      <td></td>\n",
       "      <td></td>\n",
       "      <td></td>\n",
       "      <td></td>\n",
       "      <td></td>\n",
       "    </tr>\n",
       "  </tbody>\n",
       "</table>\n",
       "</div>"
      ],
      "text/plain": [
       "                    Origin 12 24 36 48 60 72\n",
       "0  2010-01-01 - 2010-12-31                  \n",
       "1  2011-01-01 - 2011-12-31                  \n",
       "2  2012-01-01 - 2012-12-31                  \n",
       "3  2013-01-01 - 2013-12-31                  \n",
       "4  2014-01-01 - 2014-12-31                  \n",
       "5  2015-01-01 - 2015-12-31                  "
      ]
     },
     "execution_count": 26,
     "metadata": {},
     "output_type": "execute_result"
    }
   ],
   "source": [
    "Amount"
   ]
  },
  {
   "cell_type": "code",
   "execution_count": 27,
   "metadata": {},
   "outputs": [],
   "source": [
    "df2010 = df.loc[df['Group'] == '2010']\n",
    "amt12 = df2010.loc[df2010['TransactionDate'] <= datetime.datetime.strptime('2010-12-31',\"%Y-%m-%d\"),'Amount'].sum()\n",
    "Amount.at[0,'12'] = amt12\n",
    "\n",
    "amt24 = df2010.loc[df2010['TransactionDate'] <= datetime.datetime.strptime('2011-12-31',\"%Y-%m-%d\"),'Amount'].sum()\n",
    "Amount.at[0,'24'] = amt24\n",
    "\n",
    "amt36 = df2010.loc[df2010['TransactionDate'] <= datetime.datetime.strptime('2012-12-31',\"%Y-%m-%d\"),'Amount'].sum()\n",
    "Amount.at[0,'36'] = amt36\n",
    "\n",
    "amt48 = df2010.loc[df2010['TransactionDate'] <= datetime.datetime.strptime('2013-12-31',\"%Y-%m-%d\"),'Amount'].sum()\n",
    "Amount.at[0,'48'] = amt48\n",
    "\n",
    "amt60 = df2010.loc[df2010['TransactionDate'] <= datetime.datetime.strptime('2014-12-31',\"%Y-%m-%d\"),'Amount'].sum()\n",
    "Amount.at[0,'60'] = amt60\n",
    "\n",
    "amt72 = df2010.loc[df2010['TransactionDate'] <= datetime.datetime.strptime('2015-12-31',\"%Y-%m-%d\"),'Amount'].sum()\n",
    "Amount.at[0,'72'] = amt72"
   ]
  },
  {
   "cell_type": "code",
   "execution_count": 28,
   "metadata": {},
   "outputs": [],
   "source": [
    "df2011 = df.loc[df['Group'] == '2011']\n",
    "amt12 = df2011.loc[df2011['TransactionDate'] <= datetime.datetime.strptime('2011-12-31',\"%Y-%m-%d\"),'Amount'].sum()\n",
    "Amount.at[1,'12'] = amt12\n",
    "\n",
    "amt24 = df2011.loc[df2011['TransactionDate'] <= datetime.datetime.strptime('2012-12-31',\"%Y-%m-%d\"),'Amount'].sum()\n",
    "Amount.at[1,'24'] = amt24\n",
    "\n",
    "amt36 = df2011.loc[df2011['TransactionDate'] <= datetime.datetime.strptime('2013-12-31',\"%Y-%m-%d\"),'Amount'].sum()\n",
    "Amount.at[1,'36'] = amt36\n",
    "\n",
    "amt48 = df2011.loc[df2011['TransactionDate'] <= datetime.datetime.strptime('2014-12-31',\"%Y-%m-%d\"),'Amount'].sum()\n",
    "Amount.at[1,'48'] = amt48\n",
    "\n",
    "amt60 = df2011.loc[df2011['TransactionDate'] <= datetime.datetime.strptime('2015-12-31',\"%Y-%m-%d\"),'Amount'].sum()\n",
    "Amount.at[1,'60'] = amt60"
   ]
  },
  {
   "cell_type": "code",
   "execution_count": 29,
   "metadata": {},
   "outputs": [],
   "source": [
    "df2012 = df.loc[df['Group'] == '2012']\n",
    "amt12 = df2012.loc[df2012['TransactionDate'] <= datetime.datetime.strptime('2012-12-31',\"%Y-%m-%d\"),'Amount'].sum()\n",
    "Amount.at[2,'12'] = amt12\n",
    "\n",
    "amt24 = df2012.loc[df2012['TransactionDate'] <= datetime.datetime.strptime('2013-12-31',\"%Y-%m-%d\"),'Amount'].sum()\n",
    "Amount.at[2,'24'] = amt24\n",
    "\n",
    "amt36 = df2012.loc[df2012['TransactionDate'] <= datetime.datetime.strptime('2014-12-31',\"%Y-%m-%d\"),'Amount'].sum()\n",
    "Amount.at[2,'36'] = amt36\n",
    "\n",
    "amt48 = df2012.loc[df2012['TransactionDate'] <= datetime.datetime.strptime('2015-12-31',\"%Y-%m-%d\"),'Amount'].sum()\n",
    "Amount.at[2,'48'] = amt48"
   ]
  },
  {
   "cell_type": "code",
   "execution_count": 30,
   "metadata": {},
   "outputs": [],
   "source": [
    "df2013 = df.loc[df['Group'] == '2013']\n",
    "amt12 = df2013.loc[df2013['TransactionDate'] <= datetime.datetime.strptime('2013-12-31',\"%Y-%m-%d\"),'Amount'].sum()\n",
    "Amount.at[3,'12'] = amt12\n",
    "\n",
    "amt24 = df2013.loc[df2013['TransactionDate'] <= datetime.datetime.strptime('2014-12-31',\"%Y-%m-%d\"),'Amount'].sum()\n",
    "Amount.at[3,'24'] = amt24\n",
    "\n",
    "amt36 = df2013.loc[df2013['TransactionDate'] <= datetime.datetime.strptime('2015-12-31',\"%Y-%m-%d\"),'Amount'].sum()\n",
    "Amount.at[3,'36'] = amt36"
   ]
  },
  {
   "cell_type": "code",
   "execution_count": 31,
   "metadata": {},
   "outputs": [],
   "source": [
    "df2014 = df.loc[df['Group'] == '2014']\n",
    "amt12 = df2014.loc[df2014['TransactionDate'] <= datetime.datetime.strptime('2014-12-31',\"%Y-%m-%d\"),'Amount'].sum()\n",
    "Amount.at[4,'12'] = amt12\n",
    "\n",
    "amt24 = df2014.loc[df2014['TransactionDate'] <= datetime.datetime.strptime('2015-12-31',\"%Y-%m-%d\"),'Amount'].sum()\n",
    "Amount.at[4,'24'] = amt24"
   ]
  },
  {
   "cell_type": "code",
   "execution_count": 32,
   "metadata": {},
   "outputs": [],
   "source": [
    "df2015 = df.loc[df['Group'] == '2015']\n",
    "amt12 = df2015.loc[df2015['TransactionDate'] <= datetime.datetime.strptime('2015-12-31',\"%Y-%m-%d\"),'Amount'].sum()\n",
    "Amount.at[5,'12'] = amt12"
   ]
  },
  {
   "cell_type": "code",
   "execution_count": 33,
   "metadata": {},
   "outputs": [
    {
     "data": {
      "text/html": [
       "<div>\n",
       "<style scoped>\n",
       "    .dataframe tbody tr th:only-of-type {\n",
       "        vertical-align: middle;\n",
       "    }\n",
       "\n",
       "    .dataframe tbody tr th {\n",
       "        vertical-align: top;\n",
       "    }\n",
       "\n",
       "    .dataframe thead th {\n",
       "        text-align: right;\n",
       "    }\n",
       "</style>\n",
       "<table border=\"1\" class=\"dataframe\">\n",
       "  <thead>\n",
       "    <tr style=\"text-align: right;\">\n",
       "      <th></th>\n",
       "      <th>12</th>\n",
       "      <th>24</th>\n",
       "      <th>36</th>\n",
       "      <th>48</th>\n",
       "      <th>60</th>\n",
       "      <th>72</th>\n",
       "    </tr>\n",
       "    <tr>\n",
       "      <th>Origin</th>\n",
       "      <th></th>\n",
       "      <th></th>\n",
       "      <th></th>\n",
       "      <th></th>\n",
       "      <th></th>\n",
       "      <th></th>\n",
       "    </tr>\n",
       "  </thead>\n",
       "  <tbody>\n",
       "    <tr>\n",
       "      <th>2010-01-01 - 2010-12-31</th>\n",
       "      <td>2259.67</td>\n",
       "      <td>3614.78</td>\n",
       "      <td>5274.81</td>\n",
       "      <td>6632.37</td>\n",
       "      <td>7930.69</td>\n",
       "      <td>8964.49</td>\n",
       "    </tr>\n",
       "    <tr>\n",
       "      <th>2011-01-01 - 2011-12-31</th>\n",
       "      <td>2238.46</td>\n",
       "      <td>3757.9</td>\n",
       "      <td>5465.99</td>\n",
       "      <td>6703.11</td>\n",
       "      <td>7862.24</td>\n",
       "      <td></td>\n",
       "    </tr>\n",
       "    <tr>\n",
       "      <th>2012-01-01 - 2012-12-31</th>\n",
       "      <td>2181.35</td>\n",
       "      <td>3874.69</td>\n",
       "      <td>5226.86</td>\n",
       "      <td>6501.85</td>\n",
       "      <td></td>\n",
       "      <td></td>\n",
       "    </tr>\n",
       "    <tr>\n",
       "      <th>2013-01-01 - 2013-12-31</th>\n",
       "      <td>2179.85</td>\n",
       "      <td>3609.81</td>\n",
       "      <td>5227.75</td>\n",
       "      <td></td>\n",
       "      <td></td>\n",
       "      <td></td>\n",
       "    </tr>\n",
       "    <tr>\n",
       "      <th>2014-01-01 - 2014-12-31</th>\n",
       "      <td>1830.85</td>\n",
       "      <td>3262.05</td>\n",
       "      <td></td>\n",
       "      <td></td>\n",
       "      <td></td>\n",
       "      <td></td>\n",
       "    </tr>\n",
       "    <tr>\n",
       "      <th>2015-01-01 - 2015-12-31</th>\n",
       "      <td>1912.17</td>\n",
       "      <td></td>\n",
       "      <td></td>\n",
       "      <td></td>\n",
       "      <td></td>\n",
       "      <td></td>\n",
       "    </tr>\n",
       "  </tbody>\n",
       "</table>\n",
       "</div>"
      ],
      "text/plain": [
       "                              12       24       36       48       60       72\n",
       "Origin                                                                       \n",
       "2010-01-01 - 2010-12-31  2259.67  3614.78  5274.81  6632.37  7930.69  8964.49\n",
       "2011-01-01 - 2011-12-31  2238.46   3757.9  5465.99  6703.11  7862.24         \n",
       "2012-01-01 - 2012-12-31  2181.35  3874.69  5226.86  6501.85                  \n",
       "2013-01-01 - 2013-12-31  2179.85  3609.81  5227.75                           \n",
       "2014-01-01 - 2014-12-31  1830.85  3262.05                                    \n",
       "2015-01-01 - 2015-12-31  1912.17                                             "
      ]
     },
     "execution_count": 33,
     "metadata": {},
     "output_type": "execute_result"
    }
   ],
   "source": [
    "Amount.set_index('Origin', inplace=True)\n",
    "Amount"
   ]
  },
  {
   "cell_type": "markdown",
   "metadata": {},
   "source": [
    "<h4>Step 5: Calculate number of customers in each group</h4>"
   ]
  },
  {
   "cell_type": "code",
   "execution_count": 34,
   "metadata": {},
   "outputs": [],
   "source": [
    "NewCustomers = pd.DataFrame({'Origin':['2010-01-01 - 2010-12-31', '2011-01-01 - 2011-12-31', '2012-01-01 - 2012-12-31', \n",
    "                                        '2013-01-01 - 2013-12-31', '2014-01-01 - 2014-12-31', '2015-01-01 - 2015-12-31']})\n",
    "NewCustomers['12']=''\n",
    "NewCustomers['24']=''\n",
    "NewCustomers['36']=''\n",
    "NewCustomers['48']=''\n",
    "NewCustomers['60']=''\n",
    "NewCustomers['72']=''"
   ]
  },
  {
   "cell_type": "code",
   "execution_count": 35,
   "metadata": {},
   "outputs": [],
   "source": [
    "NewCustomers.iloc[0,1:7] = len(df2[df2['Group'] == '2010'])\n",
    "NewCustomers.iloc[1,1:6] = len(df2[df2['Group'] == '2011'])\n",
    "NewCustomers.iloc[2,1:5] = len(df2[df2['Group'] == '2012'])\n",
    "NewCustomers.iloc[3,1:4] = len(df2[df2['Group'] == '2013'])\n",
    "NewCustomers.iloc[4,1:3] = len(df2[df2['Group'] == '2014'])\n",
    "NewCustomers.iloc[5,1:2] = len(df2[df2['Group'] == '2015'])"
   ]
  },
  {
   "cell_type": "code",
   "execution_count": 36,
   "metadata": {},
   "outputs": [
    {
     "data": {
      "text/html": [
       "<div>\n",
       "<style scoped>\n",
       "    .dataframe tbody tr th:only-of-type {\n",
       "        vertical-align: middle;\n",
       "    }\n",
       "\n",
       "    .dataframe tbody tr th {\n",
       "        vertical-align: top;\n",
       "    }\n",
       "\n",
       "    .dataframe thead th {\n",
       "        text-align: right;\n",
       "    }\n",
       "</style>\n",
       "<table border=\"1\" class=\"dataframe\">\n",
       "  <thead>\n",
       "    <tr style=\"text-align: right;\">\n",
       "      <th></th>\n",
       "      <th>12</th>\n",
       "      <th>24</th>\n",
       "      <th>36</th>\n",
       "      <th>48</th>\n",
       "      <th>60</th>\n",
       "      <th>72</th>\n",
       "    </tr>\n",
       "    <tr>\n",
       "      <th>Origin</th>\n",
       "      <th></th>\n",
       "      <th></th>\n",
       "      <th></th>\n",
       "      <th></th>\n",
       "      <th></th>\n",
       "      <th></th>\n",
       "    </tr>\n",
       "  </thead>\n",
       "  <tbody>\n",
       "    <tr>\n",
       "      <th>2010-01-01 - 2010-12-31</th>\n",
       "      <td>172</td>\n",
       "      <td>172</td>\n",
       "      <td>172</td>\n",
       "      <td>172</td>\n",
       "      <td>172</td>\n",
       "      <td>172</td>\n",
       "    </tr>\n",
       "    <tr>\n",
       "      <th>2011-01-01 - 2011-12-31</th>\n",
       "      <td>170</td>\n",
       "      <td>170</td>\n",
       "      <td>170</td>\n",
       "      <td>170</td>\n",
       "      <td>170</td>\n",
       "      <td></td>\n",
       "    </tr>\n",
       "    <tr>\n",
       "      <th>2012-01-01 - 2012-12-31</th>\n",
       "      <td>163</td>\n",
       "      <td>163</td>\n",
       "      <td>163</td>\n",
       "      <td>163</td>\n",
       "      <td></td>\n",
       "      <td></td>\n",
       "    </tr>\n",
       "    <tr>\n",
       "      <th>2013-01-01 - 2013-12-31</th>\n",
       "      <td>180</td>\n",
       "      <td>180</td>\n",
       "      <td>180</td>\n",
       "      <td></td>\n",
       "      <td></td>\n",
       "      <td></td>\n",
       "    </tr>\n",
       "    <tr>\n",
       "      <th>2014-01-01 - 2014-12-31</th>\n",
       "      <td>155</td>\n",
       "      <td>155</td>\n",
       "      <td></td>\n",
       "      <td></td>\n",
       "      <td></td>\n",
       "      <td></td>\n",
       "    </tr>\n",
       "    <tr>\n",
       "      <th>2015-01-01 - 2015-12-31</th>\n",
       "      <td>160</td>\n",
       "      <td></td>\n",
       "      <td></td>\n",
       "      <td></td>\n",
       "      <td></td>\n",
       "      <td></td>\n",
       "    </tr>\n",
       "  </tbody>\n",
       "</table>\n",
       "</div>"
      ],
      "text/plain": [
       "                          12   24   36   48   60   72\n",
       "Origin                                               \n",
       "2010-01-01 - 2010-12-31  172  172  172  172  172  172\n",
       "2011-01-01 - 2011-12-31  170  170  170  170  170     \n",
       "2012-01-01 - 2012-12-31  163  163  163  163          \n",
       "2013-01-01 - 2013-12-31  180  180  180               \n",
       "2014-01-01 - 2014-12-31  155  155                    \n",
       "2015-01-01 - 2015-12-31  160                         "
      ]
     },
     "execution_count": 36,
     "metadata": {},
     "output_type": "execute_result"
    }
   ],
   "source": [
    "NewCustomers.set_index('Origin', inplace=True)\n",
    "NewCustomers"
   ]
  },
  {
   "cell_type": "markdown",
   "metadata": {},
   "source": [
    "<h4>Step 6: Historic CLV</h4>"
   ]
  },
  {
   "cell_type": "code",
   "execution_count": 37,
   "metadata": {},
   "outputs": [],
   "source": [
    "Amount[['12','24','36','48','60','72']] = Amount[['12','24','36','48','60','72']].apply(pd.to_numeric, errors='coerce', axis=1)"
   ]
  },
  {
   "cell_type": "code",
   "execution_count": 38,
   "metadata": {},
   "outputs": [],
   "source": [
    "NewCustomers[['12','24','36','48','60','72']] = NewCustomers[['12','24','36','48','60','72']].apply(pd.to_numeric, errors='coerce', axis=1)"
   ]
  },
  {
   "cell_type": "code",
   "execution_count": 39,
   "metadata": {},
   "outputs": [],
   "source": [
    "HistoricCLV = round(Amount/NewCustomers,2)"
   ]
  },
  {
   "cell_type": "code",
   "execution_count": 40,
   "metadata": {},
   "outputs": [
    {
     "data": {
      "text/html": [
       "<div>\n",
       "<style scoped>\n",
       "    .dataframe tbody tr th:only-of-type {\n",
       "        vertical-align: middle;\n",
       "    }\n",
       "\n",
       "    .dataframe tbody tr th {\n",
       "        vertical-align: top;\n",
       "    }\n",
       "\n",
       "    .dataframe thead th {\n",
       "        text-align: right;\n",
       "    }\n",
       "</style>\n",
       "<table border=\"1\" class=\"dataframe\">\n",
       "  <thead>\n",
       "    <tr style=\"text-align: right;\">\n",
       "      <th></th>\n",
       "      <th>12</th>\n",
       "      <th>24</th>\n",
       "      <th>36</th>\n",
       "      <th>48</th>\n",
       "      <th>60</th>\n",
       "      <th>72</th>\n",
       "    </tr>\n",
       "    <tr>\n",
       "      <th>Origin</th>\n",
       "      <th></th>\n",
       "      <th></th>\n",
       "      <th></th>\n",
       "      <th></th>\n",
       "      <th></th>\n",
       "      <th></th>\n",
       "    </tr>\n",
       "  </thead>\n",
       "  <tbody>\n",
       "    <tr>\n",
       "      <th>2010-01-01 - 2010-12-31</th>\n",
       "      <td>13.14</td>\n",
       "      <td>21.02</td>\n",
       "      <td>30.67</td>\n",
       "      <td>38.56</td>\n",
       "      <td>46.11</td>\n",
       "      <td>52.12</td>\n",
       "    </tr>\n",
       "    <tr>\n",
       "      <th>2011-01-01 - 2011-12-31</th>\n",
       "      <td>13.17</td>\n",
       "      <td>22.11</td>\n",
       "      <td>32.15</td>\n",
       "      <td>39.43</td>\n",
       "      <td>46.25</td>\n",
       "      <td>NaN</td>\n",
       "    </tr>\n",
       "    <tr>\n",
       "      <th>2012-01-01 - 2012-12-31</th>\n",
       "      <td>13.38</td>\n",
       "      <td>23.77</td>\n",
       "      <td>32.07</td>\n",
       "      <td>39.89</td>\n",
       "      <td>NaN</td>\n",
       "      <td>NaN</td>\n",
       "    </tr>\n",
       "    <tr>\n",
       "      <th>2013-01-01 - 2013-12-31</th>\n",
       "      <td>12.11</td>\n",
       "      <td>20.05</td>\n",
       "      <td>29.04</td>\n",
       "      <td>NaN</td>\n",
       "      <td>NaN</td>\n",
       "      <td>NaN</td>\n",
       "    </tr>\n",
       "    <tr>\n",
       "      <th>2014-01-01 - 2014-12-31</th>\n",
       "      <td>11.81</td>\n",
       "      <td>21.05</td>\n",
       "      <td>NaN</td>\n",
       "      <td>NaN</td>\n",
       "      <td>NaN</td>\n",
       "      <td>NaN</td>\n",
       "    </tr>\n",
       "    <tr>\n",
       "      <th>2015-01-01 - 2015-12-31</th>\n",
       "      <td>11.95</td>\n",
       "      <td>NaN</td>\n",
       "      <td>NaN</td>\n",
       "      <td>NaN</td>\n",
       "      <td>NaN</td>\n",
       "      <td>NaN</td>\n",
       "    </tr>\n",
       "  </tbody>\n",
       "</table>\n",
       "</div>"
      ],
      "text/plain": [
       "                            12     24     36     48     60     72\n",
       "Origin                                                           \n",
       "2010-01-01 - 2010-12-31  13.14  21.02  30.67  38.56  46.11  52.12\n",
       "2011-01-01 - 2011-12-31  13.17  22.11  32.15  39.43  46.25    NaN\n",
       "2012-01-01 - 2012-12-31  13.38  23.77  32.07  39.89    NaN    NaN\n",
       "2013-01-01 - 2013-12-31  12.11  20.05  29.04    NaN    NaN    NaN\n",
       "2014-01-01 - 2014-12-31  11.81  21.05    NaN    NaN    NaN    NaN\n",
       "2015-01-01 - 2015-12-31  11.95    NaN    NaN    NaN    NaN    NaN"
      ]
     },
     "execution_count": 40,
     "metadata": {},
     "output_type": "execute_result"
    }
   ],
   "source": [
    "HistoricCLV"
   ]
  },
  {
   "cell_type": "code",
   "execution_count": 41,
   "metadata": {},
   "outputs": [],
   "source": [
    "HistoricCLV_transpose = HistoricCLV.transpose()"
   ]
  },
  {
   "cell_type": "code",
   "execution_count": 42,
   "metadata": {},
   "outputs": [
    {
     "data": {
      "image/png": "[encoded data removed]",
      "text/plain": [
       "<Figure size 720x720 with 1 Axes>"
      ]
     },
     "metadata": {
      "needs_background": "light"
     },
     "output_type": "display_data"
    }
   ],
   "source": [
    "HistoricCLV_transpose.plot.line(figsize=(10,10),marker='o',grid=True)\n",
    "plt.xlabel('Age',fontsize=15)\n",
    "plt.ylabel('HistoricCLV',fontsize=15)\n",
    "plt.title('Historic CLV',fontsize=20)\n",
    "plt.show()"
   ]
  },
  {
   "cell_type": "code",
   "execution_count": 43,
   "metadata": {},
   "outputs": [],
   "source": [
    "weightedCLV = pd.DataFrame((HistoricCLV*NewCustomers).sum(axis=0))"
   ]
  },
  {
   "cell_type": "code",
   "execution_count": 44,
   "metadata": {},
   "outputs": [],
   "source": [
    "weightedCLV = round(weightedCLV/pd.DataFrame(NewCustomers.sum(axis=0)),2)\n",
    "weightedCLV.rename(columns={0: 'HistoricCLV'},inplace=True)\n",
    "weightedCLV.rename_axis('Age',inplace=True)"
   ]
  },
  {
   "cell_type": "code",
   "execution_count": 45,
   "metadata": {},
   "outputs": [
    {
     "data": {
      "text/html": [
       "<div>\n",
       "<style scoped>\n",
       "    .dataframe tbody tr th:only-of-type {\n",
       "        vertical-align: middle;\n",
       "    }\n",
       "\n",
       "    .dataframe tbody tr th {\n",
       "        vertical-align: top;\n",
       "    }\n",
       "\n",
       "    .dataframe thead th {\n",
       "        text-align: right;\n",
       "    }\n",
       "</style>\n",
       "<table border=\"1\" class=\"dataframe\">\n",
       "  <thead>\n",
       "    <tr style=\"text-align: right;\">\n",
       "      <th></th>\n",
       "      <th>HistoricCLV</th>\n",
       "    </tr>\n",
       "    <tr>\n",
       "      <th>Age</th>\n",
       "      <th></th>\n",
       "    </tr>\n",
       "  </thead>\n",
       "  <tbody>\n",
       "    <tr>\n",
       "      <th>12</th>\n",
       "      <td>12.60</td>\n",
       "    </tr>\n",
       "    <tr>\n",
       "      <th>24</th>\n",
       "      <td>21.57</td>\n",
       "    </tr>\n",
       "    <tr>\n",
       "      <th>36</th>\n",
       "      <td>30.94</td>\n",
       "    </tr>\n",
       "    <tr>\n",
       "      <th>48</th>\n",
       "      <td>39.28</td>\n",
       "    </tr>\n",
       "    <tr>\n",
       "      <th>60</th>\n",
       "      <td>46.18</td>\n",
       "    </tr>\n",
       "    <tr>\n",
       "      <th>72</th>\n",
       "      <td>52.12</td>\n",
       "    </tr>\n",
       "  </tbody>\n",
       "</table>\n",
       "</div>"
      ],
      "text/plain": [
       "     HistoricCLV\n",
       "Age             \n",
       "12         12.60\n",
       "24         21.57\n",
       "36         30.94\n",
       "48         39.28\n",
       "60         46.18\n",
       "72         52.12"
      ]
     },
     "execution_count": 45,
     "metadata": {},
     "output_type": "execute_result"
    }
   ],
   "source": [
    "weightedCLV"
   ]
  },
  {
   "cell_type": "code",
   "execution_count": 46,
   "metadata": {},
   "outputs": [
    {
     "data": {
      "image/png": "[encoded data removed]",
      "text/plain": [
       "<Figure size 720x720 with 1 Axes>"
      ]
     },
     "metadata": {
      "needs_background": "light"
     },
     "output_type": "display_data"
    }
   ],
   "source": [
    "HistoricCLV_transpose['2010-01-01 - 2010-12-31'].plot.line(figsize=(10,10),marker='o',markerfacecolor='blue',markersize=7,color='white')\n",
    "HistoricCLV_transpose['2011-01-01 - 2011-12-31'].plot.line(figsize=(10,10),marker='o',markerfacecolor='orange',markersize=7,color='white')\n",
    "HistoricCLV_transpose['2012-01-01 - 2012-12-31'].plot.line(figsize=(10,10),marker='o',markerfacecolor='green',markersize=7,color='white')\n",
    "HistoricCLV_transpose['2013-01-01 - 2013-12-31'].plot.line(figsize=(10,10),marker='o',markerfacecolor='red',markersize=7,color='white')\n",
    "HistoricCLV_transpose['2014-01-01 - 2014-12-31'].plot.line(figsize=(10,10),marker='o',markerfacecolor='purple',markersize=7,color='white')\n",
    "HistoricCLV_transpose['2015-01-01 - 2015-12-31'].plot.line(figsize=(10,10),grid=True,marker='o',markerfacecolor='brown',markersize=7,color='white')\n",
    "plt.plot(weightedCLV,color='black',linewidth=4,alpha=0.5)\n",
    "plt.legend()\n",
    "plt.xlabel('Age',fontsize=15)\n",
    "plt.ylabel('HistoricCLV',fontsize=15)\n",
    "plt.title('Historic CLV (w/estimate in black)',fontsize=20)\n",
    "plt.show()"
   ]
  },
  {
   "cell_type": "markdown",
   "metadata": {},
   "source": [
    "<h4>Step 7: Interpreting your results</h4>"
   ]
  },
  {
   "cell_type": "markdown",
   "metadata": {},
   "source": [
    "<p>Customers acquired in 2011 have spent $46.25 to date. From the graph, we can also see that different groups of customers exhibit similar pattern of spending. It also seems that the company has relatively loyal customers, and they should consider implementing a reward program to retain these customers and improve overall spending. </p>"
   ]
  },
  {
   "cell_type": "code",
   "execution_count": null,
   "metadata": {},
   "outputs": [],
   "source": []
  }
 ],
 "metadata": {
  "kernelspec": {
   "display_name": "Python 3",
   "language": "python",
   "name": "python3"
  },
  "language_info": {
   "codemirror_mode": {
    "name": "ipython",
    "version": 3
   },
   "file_extension": ".py",
   "mimetype": "text/x-python",
   "name": "python",
   "nbconvert_exporter": "python",
   "pygments_lexer": "ipython3",
   "version": "3.7.4"
  }
 },
 "nbformat": 4,
 "nbformat_minor": 4
}
